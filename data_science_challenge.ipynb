{
 "cells": [
  {
   "cell_type": "code",
   "execution_count": 1,
   "id": "4e89bc6b",
   "metadata": {},
   "outputs": [],
   "source": [
    "import pandas as pd"
   ]
  },
  {
   "cell_type": "code",
   "execution_count": 2,
   "id": "4f12b487",
   "metadata": {},
   "outputs": [
    {
     "name": "stdout",
     "output_type": "stream",
     "text": [
      "<class 'pandas.core.frame.DataFrame'>\n",
      "RangeIndex: 712 entries, 0 to 711\n",
      "Data columns (total 48 columns):\n",
      " #   Column                       Non-Null Count  Dtype         \n",
      "---  ------                       --------------  -----         \n",
      " 0   water_pay                    712 non-null    object        \n",
      " 1   respondent                   712 non-null    object        \n",
      " 2   research_asst_name           712 non-null    object        \n",
      " 3   water_used_season            712 non-null    object        \n",
      " 4   _bamboo_dataset_id           712 non-null    object        \n",
      " 5   _deleted_at                  0 non-null      datetime64[ns]\n",
      " 6   water_point_condition        712 non-null    object        \n",
      " 7   _xform_id_string             712 non-null    object        \n",
      " 8   other_point_1km              712 non-null    object        \n",
      " 9   _attachments                 712 non-null    object        \n",
      " 10  communities_villages         712 non-null    object        \n",
      " 11  end                          712 non-null    object        \n",
      " 12  animal_number                528 non-null    object        \n",
      " 13  water_point_id               712 non-null    object        \n",
      " 14  start                        712 non-null    object        \n",
      " 15  water_connected              712 non-null    object        \n",
      " 16  water_manager_name           708 non-null    object        \n",
      " 17  _status                      712 non-null    object        \n",
      " 18  enum_id_1                    712 non-null    int64         \n",
      " 19  water_lift_mechanism         712 non-null    object        \n",
      " 20  districts_divisions          712 non-null    object        \n",
      " 21  _uuid                        712 non-null    object        \n",
      " 22  grid                         712 non-null    object        \n",
      " 23  date                         712 non-null    datetime64[ns]\n",
      " 24  formhub/uuid                 712 non-null    object        \n",
      " 25  road_available               712 non-null    object        \n",
      " 26  water_functioning            712 non-null    object        \n",
      " 27  _submission_time             712 non-null    datetime64[ns]\n",
      " 28  signal                       712 non-null    object        \n",
      " 29  water_source_type            712 non-null    object        \n",
      " 30  _geolocation                 712 non-null    object        \n",
      " 31  water_point_image            712 non-null    object        \n",
      " 32  water_point_geocode          709 non-null    object        \n",
      " 33  deviceid                     712 non-null    int64         \n",
      " 34  locations_wards              712 non-null    object        \n",
      " 35  water_manager                712 non-null    object        \n",
      " 36  water_developer              712 non-null    object        \n",
      " 37  _id                          712 non-null    int64         \n",
      " 38  animal_point                 712 non-null    object        \n",
      " 39  water_mechanism_plate        649 non-null    object        \n",
      " 40  water_lift_mechanism_type    649 non-null    object        \n",
      " 41  road_type                    334 non-null    object        \n",
      " 42  water_mechanism_plate_units  43 non-null     object        \n",
      " 43  water_mechanism_plate_no     43 non-null     float64       \n",
      " 44  water_not_functioning        87 non-null     object        \n",
      " 45  water_source_type_other      3 non-null      object        \n",
      " 46  simserial                    5 non-null      float64       \n",
      " 47  subscriberid                 5 non-null      float64       \n",
      "dtypes: datetime64[ns](3), float64(3), int64(3), object(39)\n",
      "memory usage: 267.1+ KB\n"
     ]
    }
   ],
   "source": [
    "url = \"https://raw.githubusercontent.com/onaio/ona-tech/master/data/water_points.json\"\n",
    "data = pd.read_json(url)\n",
    "data.info()"
   ]
  },
  {
   "cell_type": "code",
   "execution_count": 7,
   "id": "d1c62c5a",
   "metadata": {},
   "outputs": [
    {
     "data": {
      "text/html": [
       "<div>\n",
       "<style scoped>\n",
       "    .dataframe tbody tr th:only-of-type {\n",
       "        vertical-align: middle;\n",
       "    }\n",
       "\n",
       "    .dataframe tbody tr th {\n",
       "        vertical-align: top;\n",
       "    }\n",
       "\n",
       "    .dataframe thead th {\n",
       "        text-align: right;\n",
       "    }\n",
       "</style>\n",
       "<table border=\"1\" class=\"dataframe\">\n",
       "  <thead>\n",
       "    <tr style=\"text-align: right;\">\n",
       "      <th></th>\n",
       "      <th>communities_villages</th>\n",
       "      <th>water_functioning</th>\n",
       "    </tr>\n",
       "  </thead>\n",
       "  <tbody>\n",
       "    <tr>\n",
       "      <th>0</th>\n",
       "      <td>Gumaryili</td>\n",
       "      <td>yes</td>\n",
       "    </tr>\n",
       "    <tr>\n",
       "      <th>1</th>\n",
       "      <td>Selinvoya</td>\n",
       "      <td>yes</td>\n",
       "    </tr>\n",
       "    <tr>\n",
       "      <th>2</th>\n",
       "      <td>Selinvoya</td>\n",
       "      <td>yes</td>\n",
       "    </tr>\n",
       "    <tr>\n",
       "      <th>3</th>\n",
       "      <td>Selinvoya</td>\n",
       "      <td>yes</td>\n",
       "    </tr>\n",
       "    <tr>\n",
       "      <th>4</th>\n",
       "      <td>Selinvoya</td>\n",
       "      <td>yes</td>\n",
       "    </tr>\n",
       "    <tr>\n",
       "      <th>...</th>\n",
       "      <td>...</td>\n",
       "      <td>...</td>\n",
       "    </tr>\n",
       "    <tr>\n",
       "      <th>707</th>\n",
       "      <td>Suik</td>\n",
       "      <td>yes</td>\n",
       "    </tr>\n",
       "    <tr>\n",
       "      <th>708</th>\n",
       "      <td>Vundema</td>\n",
       "      <td>yes</td>\n",
       "    </tr>\n",
       "    <tr>\n",
       "      <th>709</th>\n",
       "      <td>Vundema</td>\n",
       "      <td>yes</td>\n",
       "    </tr>\n",
       "    <tr>\n",
       "      <th>710</th>\n",
       "      <td>Jiniensa</td>\n",
       "      <td>yes</td>\n",
       "    </tr>\n",
       "    <tr>\n",
       "      <th>711</th>\n",
       "      <td>Jagsa</td>\n",
       "      <td>yes</td>\n",
       "    </tr>\n",
       "  </tbody>\n",
       "</table>\n",
       "<p>712 rows × 2 columns</p>\n",
       "</div>"
      ],
      "text/plain": [
       "    communities_villages water_functioning\n",
       "0              Gumaryili               yes\n",
       "1              Selinvoya               yes\n",
       "2              Selinvoya               yes\n",
       "3              Selinvoya               yes\n",
       "4              Selinvoya               yes\n",
       "..                   ...               ...\n",
       "707                 Suik               yes\n",
       "708              Vundema               yes\n",
       "709              Vundema               yes\n",
       "710             Jiniensa               yes\n",
       "711                Jagsa               yes\n",
       "\n",
       "[712 rows x 2 columns]"
      ]
     },
     "execution_count": 7,
     "metadata": {},
     "output_type": "execute_result"
    }
   ],
   "source": [
    "water_points = data[['communities_villages','water_functioning']]\n",
    "water_points"
   ]
  },
  {
   "cell_type": "code",
   "execution_count": 8,
   "id": "b7f831f6",
   "metadata": {},
   "outputs": [
    {
     "data": {
      "text/plain": [
       "<pandas.core.groupby.generic.DataFrameGroupBy object at 0x7ff774d0fca0>"
      ]
     },
     "execution_count": 8,
     "metadata": {},
     "output_type": "execute_result"
    }
   ],
   "source": [
    "comm_by = water_points.groupby('communities_villages')\n",
    "comm_by"
   ]
  },
  {
   "cell_type": "code",
   "execution_count": 43,
   "id": "1b2c4304",
   "metadata": {},
   "outputs": [
    {
     "data": {
      "text/html": [
       "<div>\n",
       "<style scoped>\n",
       "    .dataframe tbody tr th:only-of-type {\n",
       "        vertical-align: middle;\n",
       "    }\n",
       "\n",
       "    .dataframe tbody tr th {\n",
       "        vertical-align: top;\n",
       "    }\n",
       "\n",
       "    .dataframe thead th {\n",
       "        text-align: right;\n",
       "    }\n",
       "</style>\n",
       "<table border=\"1\" class=\"dataframe\">\n",
       "  <thead>\n",
       "    <tr style=\"text-align: right;\">\n",
       "      <th></th>\n",
       "      <th>water_functioning</th>\n",
       "    </tr>\n",
       "    <tr>\n",
       "      <th>communities_villages</th>\n",
       "      <th></th>\n",
       "    </tr>\n",
       "  </thead>\n",
       "  <tbody>\n",
       "    <tr>\n",
       "      <th>Abanyeri</th>\n",
       "      <td>1.0</td>\n",
       "    </tr>\n",
       "    <tr>\n",
       "      <th>Kubore</th>\n",
       "      <td>1.0</td>\n",
       "    </tr>\n",
       "    <tr>\n",
       "      <th>Kulbugu</th>\n",
       "      <td>1.0</td>\n",
       "    </tr>\n",
       "    <tr>\n",
       "      <th>Kunkwah</th>\n",
       "      <td>1.0</td>\n",
       "    </tr>\n",
       "    <tr>\n",
       "      <th>Kurugu</th>\n",
       "      <td>1.0</td>\n",
       "    </tr>\n",
       "    <tr>\n",
       "      <th>...</th>\n",
       "      <td>...</td>\n",
       "    </tr>\n",
       "    <tr>\n",
       "      <th>Kaasa</th>\n",
       "      <td>1.0</td>\n",
       "    </tr>\n",
       "    <tr>\n",
       "      <th>Kalaasa</th>\n",
       "      <td>1.0</td>\n",
       "    </tr>\n",
       "    <tr>\n",
       "      <th>Kanbangsa</th>\n",
       "      <td>1.0</td>\n",
       "    </tr>\n",
       "    <tr>\n",
       "      <th>Kom</th>\n",
       "      <td>1.0</td>\n",
       "    </tr>\n",
       "    <tr>\n",
       "      <th>Zundem</th>\n",
       "      <td>1.0</td>\n",
       "    </tr>\n",
       "  </tbody>\n",
       "</table>\n",
       "<p>65 rows × 1 columns</p>\n",
       "</div>"
      ],
      "text/plain": [
       "                      water_functioning\n",
       "communities_villages                   \n",
       "Abanyeri                            1.0\n",
       "Kubore                              1.0\n",
       "Kulbugu                             1.0\n",
       "Kunkwah                             1.0\n",
       "Kurugu                              1.0\n",
       "...                                 ...\n",
       "Kaasa                               1.0\n",
       "Kalaasa                             1.0\n",
       "Kanbangsa                           1.0\n",
       "Kom                                 1.0\n",
       "Zundem                              1.0\n",
       "\n",
       "[65 rows x 1 columns]"
      ]
     },
     "execution_count": 43,
     "metadata": {},
     "output_type": "execute_result"
    }
   ],
   "source": [
    "comm_by.count().rank(axis=1).sort_values('water_functioning')\n",
    "# communties_ranking = water_points[water_points['water_functioning']=='no'].rank(method='min')\n",
    "# rank=communties_ranking.water_functioning\n",
    "# rank"
   ]
  },
  {
   "cell_type": "code",
   "execution_count": 50,
   "id": "2b573d3e",
   "metadata": {},
   "outputs": [
    {
     "data": {
      "text/plain": [
       "623"
      ]
     },
     "execution_count": 50,
     "metadata": {},
     "output_type": "execute_result"
    }
   ],
   "source": [
    "number_functional = water_points[water_points['water_functioning'] == 'yes'].count()\n",
    "# number_functional['water_functioning'].count()\n",
    "functional=number_functional.water_functioning\n",
    "functional"
   ]
  },
  {
   "cell_type": "code",
   "execution_count": 51,
   "id": "bc54b15e",
   "metadata": {},
   "outputs": [
    {
     "data": {
      "text/html": [
       "<div>\n",
       "<style scoped>\n",
       "    .dataframe tbody tr th:only-of-type {\n",
       "        vertical-align: middle;\n",
       "    }\n",
       "\n",
       "    .dataframe tbody tr th {\n",
       "        vertical-align: top;\n",
       "    }\n",
       "\n",
       "    .dataframe thead th {\n",
       "        text-align: right;\n",
       "    }\n",
       "</style>\n",
       "<table border=\"1\" class=\"dataframe\">\n",
       "  <thead>\n",
       "    <tr style=\"text-align: right;\">\n",
       "      <th></th>\n",
       "      <th>communities_villages</th>\n",
       "      <th>water_functioning</th>\n",
       "    </tr>\n",
       "  </thead>\n",
       "  <tbody>\n",
       "    <tr>\n",
       "      <th>323</th>\n",
       "      <td>Nawaasa</td>\n",
       "      <td>na_dn</td>\n",
       "    </tr>\n",
       "    <tr>\n",
       "      <th>267</th>\n",
       "      <td>Soo</td>\n",
       "      <td>na_dn</td>\n",
       "    </tr>\n",
       "    <tr>\n",
       "      <th>391</th>\n",
       "      <td>Guuta</td>\n",
       "      <td>no</td>\n",
       "    </tr>\n",
       "    <tr>\n",
       "      <th>114</th>\n",
       "      <td>Namgurima</td>\n",
       "      <td>no</td>\n",
       "    </tr>\n",
       "    <tr>\n",
       "      <th>304</th>\n",
       "      <td>Zua</td>\n",
       "      <td>no</td>\n",
       "    </tr>\n",
       "    <tr>\n",
       "      <th>...</th>\n",
       "      <td>...</td>\n",
       "      <td>...</td>\n",
       "    </tr>\n",
       "    <tr>\n",
       "      <th>279</th>\n",
       "      <td>Zua</td>\n",
       "      <td>yes</td>\n",
       "    </tr>\n",
       "    <tr>\n",
       "      <th>280</th>\n",
       "      <td>Zua</td>\n",
       "      <td>yes</td>\n",
       "    </tr>\n",
       "    <tr>\n",
       "      <th>281</th>\n",
       "      <td>Zua</td>\n",
       "      <td>yes</td>\n",
       "    </tr>\n",
       "    <tr>\n",
       "      <th>206</th>\n",
       "      <td>Kpatarigu</td>\n",
       "      <td>yes</td>\n",
       "    </tr>\n",
       "    <tr>\n",
       "      <th>711</th>\n",
       "      <td>Jagsa</td>\n",
       "      <td>yes</td>\n",
       "    </tr>\n",
       "  </tbody>\n",
       "</table>\n",
       "<p>712 rows × 2 columns</p>\n",
       "</div>"
      ],
      "text/plain": [
       "    communities_villages water_functioning\n",
       "323              Nawaasa             na_dn\n",
       "267                  Soo             na_dn\n",
       "391                Guuta                no\n",
       "114            Namgurima                no\n",
       "304                  Zua                no\n",
       "..                   ...               ...\n",
       "279                  Zua               yes\n",
       "280                  Zua               yes\n",
       "281                  Zua               yes\n",
       "206            Kpatarigu               yes\n",
       "711                Jagsa               yes\n",
       "\n",
       "[712 rows x 2 columns]"
      ]
     },
     "execution_count": 51,
     "metadata": {},
     "output_type": "execute_result"
    }
   ],
   "source": [
    "community_rank = water_points.sort_values('water_functioning')\n",
    "community_rank"
   ]
  },
  {
   "cell_type": "code",
   "execution_count": 52,
   "id": "b958a26e",
   "metadata": {},
   "outputs": [
    {
     "data": {
      "text/plain": [
       "712"
      ]
     },
     "execution_count": 52,
     "metadata": {},
     "output_type": "execute_result"
    }
   ],
   "source": [
    "number_of_water_points = water_points['water_functioning'].count()\n",
    "number_of_water_points"
   ]
  },
  {
   "cell_type": "code",
   "execution_count": 54,
   "id": "adfd4491",
   "metadata": {},
   "outputs": [],
   "source": [
    "df ={\n",
    "    'number_functional':functional,\n",
    "    'number_water_points':{\n",
    "        \"communityA\":rank\n",
    "    },\n",
    "    'community_ranking':community_rank\n",
    "}\n",
    "\n"
   ]
  }
 ],
 "metadata": {
  "kernelspec": {
   "display_name": "Python 3 (ipykernel)",
   "language": "python",
   "name": "python3"
  },
  "language_info": {
   "codemirror_mode": {
    "name": "ipython",
    "version": 3
   },
   "file_extension": ".py",
   "mimetype": "text/x-python",
   "name": "python",
   "nbconvert_exporter": "python",
   "pygments_lexer": "ipython3",
   "version": "3.8.10"
  }
 },
 "nbformat": 4,
 "nbformat_minor": 5
}
